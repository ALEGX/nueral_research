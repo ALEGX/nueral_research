{
 "cells": [
  {
   "cell_type": "code",
   "execution_count": 12,
   "metadata": {},
   "outputs": [
    {
     "name": "stdout",
     "output_type": "stream",
     "text": [
      "Extracting /tmp/data/train-images-idx3-ubyte.gz\n",
      "Extracting /tmp/data/train-labels-idx1-ubyte.gz\n",
      "Extracting /tmp/data/t10k-images-idx3-ubyte.gz\n",
      "Extracting /tmp/data/t10k-labels-idx1-ubyte.gz\n"
     ]
    }
   ],
   "source": [
    "#mnist 파일(tensorflow 공식 파일) 불러오기\n",
    "from tensorflow.examples.tutorials.mnist import input_data\n",
    "mnist = input_data.read_data_sets(\"/tmp/data/\", one_hot=True)"
   ]
  },
  {
   "cell_type": "code",
   "execution_count": 9,
   "metadata": {},
   "outputs": [
    {
     "name": "stdout",
     "output_type": "stream",
     "text": [
      "[[1. 0. 0. 0. 0. 0. 0. 0. 0. 0.]]\n"
     ]
    },
    {
     "data": {
      "text/plain": [
       "<matplotlib.image.AxesImage at 0x283ac826198>"
      ]
     },
     "execution_count": 9,
     "metadata": {},
     "output_type": "execute_result"
    },
    {
     "data": {
      "image/png": "[encoded data removed]",
      "text/plain": [
       "<Figure size 432x288 with 1 Axes>"
      ]
     },
     "metadata": {
      "needs_background": "light"
     },
     "output_type": "display_data"
    }
   ],
   "source": [
    "#데이터 운용\n",
    "import numpy \n",
    "import matplotlib.pyplot as plt\n",
    "all_values = mnist.train.next_batch(1)[0][0]\n",
    "target_label = mnist.train.next_batch(1)[1]\n",
    "print(target_label)\n",
    "image_array = numpy.asfarray(all_values[0:]).reshape((28,28))\n",
    "plt.imshow(image_array, cmap = 'Greys', interpolation='None')"
   ]
  },
  {
   "cell_type": "code",
   "execution_count": 49,
   "metadata": {},
   "outputs": [
    {
     "name": "stdout",
     "output_type": "stream",
     "text": [
      "5444\n",
      "0\n"
     ]
    },
    {
     "data": {
      "text/plain": [
       "<matplotlib.image.AxesImage at 0x283ad16a470>"
      ]
     },
     "execution_count": 49,
     "metadata": {},
     "output_type": "execute_result"
    },
    {
     "data": {
      "image/png": "[encoded data removed]",
      "text/plain": [
       "<Figure size 432x288 with 1 Axes>"
      ]
     },
     "metadata": {
      "needs_background": "light"
     },
     "output_type": "display_data"
    }
   ],
   "source": [
    "# mnist 데이터중 원하는 숫자의 데이터 분류\n",
    "list_test = []\n",
    "for i in range(mnist.train.num_examples):\n",
    "    if mnist.train.labels[i][0] == 1:\n",
    "        list_test.append(mnist.train.images[i])\n",
    "print(len(list_))\n",
    "all_values = list_[10]\n",
    "target_label = 0\n",
    "print(target_label)\n",
    "image_array = numpy.asfarray(all_values[0:]).reshape((28,28))\n",
    "plt.imshow(image_array, cmap = 'Greys', interpolation='None')"
   ]
  },
  {
   "cell_type": "code",
   "execution_count": 19,
   "metadata": {},
   "outputs": [
    {
     "name": "stdout",
     "output_type": "stream",
     "text": [
      "Extracting /tmp/data/train-images-idx3-ubyte.gz\n",
      "Extracting /tmp/data/train-labels-idx1-ubyte.gz\n",
      "Extracting /tmp/data/t10k-images-idx3-ubyte.gz\n",
      "Extracting /tmp/data/t10k-labels-idx1-ubyte.gz\n",
      "Epoch: 0001 cost= 134.089508466\n",
      "Epoch: 0002 cost= 37.342779266\n",
      "Epoch: 0003 cost= 23.433712347\n",
      "Epoch: 0004 cost= 16.288309386\n",
      "Epoch: 0005 cost= 11.895784855\n",
      "Epoch: 0006 cost= 8.916098115\n",
      "Epoch: 0007 cost= 6.634470371\n",
      "Epoch: 0008 cost= 5.047005059\n",
      "Epoch: 0009 cost= 3.804668511\n",
      "Epoch: 0010 cost= 2.941433056\n",
      "Accuracy: 0.9379\n"
     ]
    }
   ],
   "source": [
    "# tensorflow를 이용한 학습(94% ~96%)(epoch = 20)(2개의 은닉층)\n",
    "import tensorflow as tf\n",
    "from tensorflow.examples.tutorials.mnist import input_data\n",
    "mnist = input_data.read_data_sets(\"/tmp/data/\", one_hot=True)\n",
    "learning_rate = 0.001\n",
    "training_epochs = 10\n",
    "batch_size = 100 \n",
    "display_step = 1\n",
    "X = tf.placeholder(tf.float32, [None, 784]) \n",
    "Y = tf.placeholder(tf.float32, [None, 10]) \n",
    "\n",
    "W1 = tf.Variable(tf.random_normal([784, 256]))\n",
    "W2 = tf.Variable(tf.random_normal([256, 256]))\n",
    "W3 = tf.Variable(tf.random_normal([256,  10]))\n",
    "\n",
    "B1 = tf.Variable(tf.random_normal([256]))\n",
    "B2 = tf.Variable(tf.random_normal([256]))\n",
    "B3 = tf.Variable(tf.random_normal([ 10]))\n",
    "\n",
    "L1 = tf.nn.relu(tf.add(tf.matmul(X, W1), B1))\n",
    "L2 = tf.nn.relu(tf.add(tf.matmul(L1, W2), B2)) \n",
    "hypothesis = tf.add(tf.matmul(L2, W3), B3)    \n",
    "\n",
    "cost = tf.reduce_mean(tf.nn.softmax_cross_entropy_with_logits(logits = hypothesis,labels = Y))   # softmax loss\n",
    "\n",
    "optimizer = tf.train.AdamOptimizer(learning_rate=learning_rate).minimize(cost)\n",
    "\n",
    "init = tf.initialize_all_variables()\n",
    "\n",
    "with tf.Session() as sess:\n",
    "    sess.run(init)\n",
    "    for epoch in range(training_epochs):\n",
    "        avg_cost = 0.\n",
    "        total_batch = int(mnist.train.num_examples/batch_size)\n",
    "        for i in range(total_batch):\n",
    "            batch_xs, batch_ys = mnist.train.next_batch(batch_size)\n",
    "            _, c = sess.run([optimizer, cost], feed_dict={X: batch_xs, Y: batch_ys})\n",
    "            avg_cost += c / total_batch\n",
    "        if (epoch+1) % display_step == 0:\n",
    "            print(\"Epoch:\", '%04d' % (epoch+1), \"cost=\", \"{:.9f}\".format(avg_cost))\n",
    "\n",
    "    correct_prediction = tf.equal(tf.argmax(hypothesis, 1), tf.argmax(Y, 1))\n",
    "    accuracy = tf.reduce_mean(tf.cast(correct_prediction, tf.float32))\n",
    "    print(\"Accuracy:\", accuracy.eval({X: mnist.test.images, Y: mnist.test.labels}))"
   ]
  },
  {
   "cell_type": "code",
   "execution_count": 10,
   "metadata": {},
   "outputs": [
    {
     "ename": "SyntaxError",
     "evalue": "invalid syntax (<ipython-input-10-93c2f31642ae>, line 9)",
     "output_type": "error",
     "traceback": [
      "\u001b[1;36m  File \u001b[1;32m\"<ipython-input-10-93c2f31642ae>\"\u001b[1;36m, line \u001b[1;32m9\u001b[0m\n\u001b[1;33m    if mnist.train.labels[i][<5] =1 :\u001b[0m\n\u001b[1;37m                             ^\u001b[0m\n\u001b[1;31mSyntaxError\u001b[0m\u001b[1;31m:\u001b[0m invalid syntax\n"
     ]
    }
   ],
   "source": [
    "#전이학습검증을 위한 변형코드(test 사진에 대하여 참 거짓 판별)(미완)\n",
    "import tensorflow as tf\n",
    "from tensorflow.examples.tutorials.mnist import input_data\n",
    "mnist = input_data.read_data_sets(\"/tmp/data/\", one_hot=True)\n",
    "\n",
    "# 테스트용 n 손글씨 집합(list1 : 0,1,2,3,4 ; list2 : 5,6,7,8,9)\n",
    "data_train_1 = []\n",
    "data_test_1 = []\n",
    "for i in range(mnist.train.num_examples):\n",
    "    if mnist.train.labels[i].index(1) < 5 :\n",
    "        data_train_1.append(mnist.train.images[i])\n",
    "        data_test_1.append(mnist.train.images[i])\n",
    "data_train_2 = []\n",
    "data_test_2 = []\n",
    "for i in range(mnist.train.num_examples):\n",
    "    if mnist.train.labels[i].index(1) > 4 :\n",
    "        data_train_2.append(mnist.train.images[i])\n",
    "        data_test_2.append(mnist.train.images[i])\n",
    "#var and func reset-----------------------------\n",
    "learning_rate = 0.001\n",
    "training_epochs = 20\n",
    "batch_size = 100 \n",
    "display_step = 1\n",
    "X = tf.placeholder(tf.float32, [None, 784]) \n",
    "Y = tf.placeholder(tf.float32, [None, 10]) \n",
    "# Common Weight\n",
    "W1 =  tf.Variable(tf.random_normal([784, 256]))\n",
    "W2 =  tf.Variable(tf.random_normal([256, 256]))\n",
    "W3 =  tf.Variable(tf.random_normal([256,  5]))\n",
    "#Weight_nueral_1,2 reset\n",
    "W1_1 , W2_1 , W3_1 = W1 , W2 , W3\n",
    "W1_2 , W2_2 , W3_2 = W1 , W2 , W3\n",
    "\n",
    "#Common Deflection \n",
    "B1 = tf.Variable(tf.random_normal([256]))\n",
    "B2 = tf.Variable(tf.random_normal([256]))\n",
    "B3 = tf.Variable(tf.random_normal([ 5]))\n",
    "#Weight_nueral_1,2 reset\n",
    "B1_1 , B2_1 , B3_1 = B1 , B2 , B3\n",
    "B1_2 , B2_2 , B3_2 = B1 , B2 , B3\n",
    "# func \n",
    "L1 = tf.nn.relu(tf.add(tf.matmul(X, W1), B1))\n",
    "L2 = tf.nn.relu(tf.add(tf.matmul(L1, W2), B2)) \n",
    "hypothesis = tf.add(tf.matmul(L2, W3), B3)    \n",
    "cost = tf.reduce_mean(tf.nn.softmax_cross_entropy_with_logits(logits = hypothesis,labels = Y))   # softmax loss\n",
    "optimizer = tf.train.AdamOptimizer(learning_rate=learning_rate).minimize(cost)\n",
    "#------------------------------------\n",
    "#train_1()\n",
    "with tf.Session() as sess:\n",
    "    sess.run(tf.initialize_all_variables())\n",
    "    for epoch in range(training_epochs):\n",
    "        avg_cost = 0.\n",
    "        total_batch = int(len(data_train_1)/batch_size)\n",
    "        for i in range(total_batch):\n",
    "            data_train, data_test = data_train_1[100*i:100*i+100] , data_test[100*i:100*i+100]\n",
    "            _, c = sess.run([optimizer, cost], feed_dict={X: data_train, Y: data_test})\n",
    "            avg_cost += c / total_batch\n",
    "        if (epoch+1) % display_step == 0:\n",
    "            print(\"Epoch:\", '%04d' % (epoch+1), \"cost=\", \"{:.9f}\".format(avg_cost))\n",
    "\n",
    "    print(\"Optimization Finished!\")\n",
    "\n",
    "    correct_prediction = tf.equal(tf.argmax(hypothesis, 1), tf.argmax(Y, 1))\n",
    "    accuracy = tf.reduce_mean(tf.cast(correct_prediction, tf.float32))\n",
    "    print(\"Accuracy:\", accuracy.eval({X: mnist.test.images, Y: mnist.test.labels}))"
   ]
  },
  {
   "cell_type": "code",
   "execution_count": 17,
   "metadata": {},
   "outputs": [
    {
     "data": {
      "text/plain": [
       "[1, 2, 3]"
      ]
     },
     "execution_count": 17,
     "metadata": {},
     "output_type": "execute_result"
    }
   ],
   "source": []
  },
  {
   "cell_type": "code",
   "execution_count": null,
   "metadata": {},
   "outputs": [],
   "source": []
  }
 ],
 "metadata": {
  "kernelspec": {
   "display_name": "Python 3",
   "language": "python",
   "name": "python3"
  },
  "language_info": {
   "codemirror_mode": {
    "name": "ipython",
    "version": 3
   },
   "file_extension": ".py",
   "mimetype": "text/x-python",
   "name": "python",
   "nbconvert_exporter": "python",
   "pygments_lexer": "ipython3",
   "version": "3.7.1"
  }
 },
 "nbformat": 4,
 "nbformat_minor": 2
}
