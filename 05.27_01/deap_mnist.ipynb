{
 "cells": [
  {
   "cell_type": "code",
   "execution_count": 1,
   "metadata": {},
   "outputs": [],
   "source": [
    "import numpy                    # 행렬 연산 등 외부 모듈 이용\n",
    "import scipy.special            # 시그모이드 함수 등 외부 모듈 이용\n",
    "import matplotlib.pyplot as plt # 이미지 출력 imshow 등 외부 모듈 이용\n",
    "# IPython 노트북내에 화면이 표시되는 인라인모드 On\n",
    "%matplotlib inline       "
   ]
  },
  {
   "cell_type": "code",
   "execution_count": 2,
   "metadata": {},
   "outputs": [],
   "source": [
    "class MyNeuralNetwork:\n",
    "    def __init__(self, inputNodesCnt, hiddenNodesCnt, outputNodesCnt, learningRate):\n",
    "        self.inputNodesCnt  = inputNodesCnt     # 입력계층 노드 수\n",
    "        self.hiddenNodesCnt = hiddenNodesCnt    # 은닉계층 노드 수\n",
    "        self.outputNodesCnt = outputNodesCnt    # 출력계층 노드 수\n",
    "        self.lr             = learningRate      # 학습률\n",
    "        \n",
    "        # numpy.random.normal 첫번째인자(0.0)를 중심, 두번째인자를 너비로하는 정규분포, 세번째인자를 크기로 생성한다.\n",
    "        # 가중치(입력층 -> 은닉층): wih\n",
    "        # 행렬 사이즈의 순서를 은닉, 입력 순으로 바꾼 이유는 아래 행렬 내적연산을 자연스럽게 하기 위해서이다.\n",
    "        self.wih = numpy.random.normal(0.0, pow(self.hiddenNodesCnt, -0.5), (self.hiddenNodesCnt, self.inputNodesCnt))\n",
    "        # 가중치(은닉층 -> 출력층): who\n",
    "        self.who = numpy.random.normal(0.0, pow(self.outputNodesCnt, -0.5), (self.outputNodesCnt, self.hiddenNodesCnt))\n",
    "        # 활성화함수 지정(여기서는 시그모이드함수 이용)\n",
    "        self.activationFunc = lambda x: scipy.special.expit(x)\n",
    "        \n",
    "    # 입력데이터와 정답라벨을 입력받아 학습한다.(마지막에 가중치 업데이트함을 주목하자)\n",
    "    def train(self, inputsList, targetsList):\n",
    "        # 가로로된 리스트를 2차원으로 변경하고 세로로 세운다.\n",
    "        inputs = numpy.array(inputsList, ndmin=2).T\n",
    "        \n",
    "        # 가로로된 리스트를 2차원으로 변경하고 세로로 세운다.\n",
    "        # targets는 출력계층 노드 수와 같고, 정답지에는 0.99 그렇지 않은 경우 0.01로 저장됨\n",
    "        # 정답인 1개만 아주 크고 나머진 아주 작은 one-hot encoding으로 구성되어 있다.\n",
    "        targets = numpy.array(targetsList, ndmin=2).T\n",
    "        \n",
    "        # [은닉계층 노드 수 X 입력계층 노드 수] 행렬과 [입력계층 노드 수 X 1] 행렬의 내적을 구한 후 활성화 함수 호출\n",
    "        hiddenOutputs = self.activationFunc(numpy.dot(self.wih, inputs))\n",
    "        \n",
    "        # [출력계층 노드 수 X 은닉계층 노드 수] 행렬과 [은닉계층 노드 수 X 1] 행렬의 내적을 구한 후 활성화 함수 호출\n",
    "        # 출력계층에는 활성화 함수를 생략하기도 한다.\n",
    "        hypothesis = self.activationFunc(numpy.dot(self.who, hiddenOutputs))\n",
    "        \n",
    "        # 정답과 가정사이에 발생한 오차1(=비용)\n",
    "        cost = targets - hypothesis        \n",
    "        # (은닉게층 -> 출력계층) 가중치 업데이트\n",
    "        self.who += self.lr * numpy.dot((cost * hypothesis * (1.0 - hypothesis)), numpy.transpose(hiddenOutputs))\n",
    "                \n",
    "        # 은닉계층 -> 출력계층의 전치와 오차1의 내적을 통해 오차2 계산\n",
    "        hiddenErrors = numpy.dot(self.who.T, cost)        \n",
    "        # (입력계층 -> 은닉계층) 가중치 업데이트\n",
    "        self.wih += self.lr * numpy.dot((hiddenErrors * hiddenOutputs * (1.0 - hiddenOutputs)), numpy.transpose(inputs))\n",
    "    \n",
    "    # 입력데이터를 신경망에 테스트하여 결과를 얻는다.\n",
    "    def test(self, inputsList):\n",
    "        # 가로로된 리스트를 2차원으로 변경하고 세로로 세운다.\n",
    "        inputs = numpy.array(inputsList, ndmin=2).T\n",
    "        \n",
    "        # [은닉계층 노드 수 X 입력계층 노드 수] 행렬과 [입력계층 노드 수 X 1] 행렬의 내적을 구한 후 활성화 함수 호출\n",
    "        hiddenOutputs = self.activationFunc(numpy.dot(self.wih, inputs))\n",
    "        \n",
    "        # [출력계층 노드 수 X 은닉계층 노드 수] 행렬과 [은닉계층 노드 수 X 1] 행렬의 내적을 구한 후 활성화 함수 호출\n",
    "        return self.activationFunc(numpy.dot(self.who, hiddenOutputs))"
   ]
  },
  {
   "cell_type": "code",
   "execution_count": 5,
   "metadata": {},
   "outputs": [],
   "source": [
    "# 학습용(traing)데이터와 테스트용(test)데이터를 분리하여 준비\n",
    "trainingDataFileHandler = open(\"mnist_train.csv\",\"r\")\n",
    "# 학습용데이터를 읽어서 리스트형태로 저장\n",
    "trainingDataList = trainingDataFileHandler.readlines()\n",
    "# 학습용데이터 파일 핸들러를 닫는다.\n",
    "trainingDataFileHandler.close()"
   ]
  },
  {
   "cell_type": "code",
   "execution_count": 6,
   "metadata": {},
   "outputs": [
    {
     "data": {
      "text/plain": [
       "60000"
      ]
     },
     "execution_count": 6,
     "metadata": {},
     "output_type": "execute_result"
    }
   ],
   "source": [
    "# 리스트의 전체길이가 6만개이다.\n",
    "len(trainingDataList)"
   ]
  },
  {
   "cell_type": "code",
   "execution_count": 7,
   "metadata": {},
   "outputs": [
    {
     "data": {
      "text/plain": [
       "'5,0,0,0,0,0,0,0,0,0,0,0,0,0,0,0,0,0,0,0,0,0,0,0,0,0,0,0,0,0,0,0,0,0,0,0,0,0,0,0,0,0,0,0,0,0,0,0,0,0,0,0,0,0,0,0,0,0,0,0,0,0,0,0,0,0,0,0,0,0,0,0,0,0,0,0,0,0,0,0,0,0,0,0,0,0,0,0,0,0,0,0,0,0,0,0,0,0,0,0,0,0,0,0,0,0,0,0,0,0,0,0,0,0,0,0,0,0,0,0,0,0,0,0,0,0,0,0,0,0,0,0,0,0,0,0,0,0,0,0,0,0,0,0,0,0,0,0,0,0,0,0,0,3,18,18,18,126,136,175,26,166,255,247,127,0,0,0,0,0,0,0,0,0,0,0,0,30,36,94,154,170,253,253,253,253,253,225,172,253,242,195,64,0,0,0,0,0,0,0,0,0,0,0,49,238,253,253,253,253,253,253,253,253,251,93,82,82,56,39,0,0,0,0,0,0,0,0,0,0,0,0,18,219,253,253,253,253,253,198,182,247,241,0,0,0,0,0,0,0,0,0,0,0,0,0,0,0,0,0,0,80,156,107,253,253,205,11,0,43,154,0,0,0,0,0,0,0,0,0,0,0,0,0,0,0,0,0,0,0,14,1,154,253,90,0,0,0,0,0,0,0,0,0,0,0,0,0,0,0,0,0,0,0,0,0,0,0,0,0,139,253,190,2,0,0,0,0,0,0,0,0,0,0,0,0,0,0,0,0,0,0,0,0,0,0,0,0,11,190,253,70,0,0,0,0,0,0,0,0,0,0,0,0,0,0,0,0,0,0,0,0,0,0,0,0,0,35,241,225,160,108,1,0,0,0,0,0,0,0,0,0,0,0,0,0,0,0,0,0,0,0,0,0,0,0,81,240,253,253,119,25,0,0,0,0,0,0,0,0,0,0,0,0,0,0,0,0,0,0,0,0,0,0,0,45,186,253,253,150,27,0,0,0,0,0,0,0,0,0,0,0,0,0,0,0,0,0,0,0,0,0,0,0,16,93,252,253,187,0,0,0,0,0,0,0,0,0,0,0,0,0,0,0,0,0,0,0,0,0,0,0,0,0,249,253,249,64,0,0,0,0,0,0,0,0,0,0,0,0,0,0,0,0,0,0,0,0,0,46,130,183,253,253,207,2,0,0,0,0,0,0,0,0,0,0,0,0,0,0,0,0,0,0,0,39,148,229,253,253,253,250,182,0,0,0,0,0,0,0,0,0,0,0,0,0,0,0,0,0,0,24,114,221,253,253,253,253,201,78,0,0,0,0,0,0,0,0,0,0,0,0,0,0,0,0,0,23,66,213,253,253,253,253,198,81,2,0,0,0,0,0,0,0,0,0,0,0,0,0,0,0,0,18,171,219,253,253,253,253,195,80,9,0,0,0,0,0,0,0,0,0,0,0,0,0,0,0,0,55,172,226,253,253,253,253,244,133,11,0,0,0,0,0,0,0,0,0,0,0,0,0,0,0,0,0,0,136,253,253,253,212,135,132,16,0,0,0,0,0,0,0,0,0,0,0,0,0,0,0,0,0,0,0,0,0,0,0,0,0,0,0,0,0,0,0,0,0,0,0,0,0,0,0,0,0,0,0,0,0,0,0,0,0,0,0,0,0,0,0,0,0,0,0,0,0,0,0,0,0,0,0,0,0,0,0,0,0,0,0,0,0,0,0,0,0,0,0,0,0,0,0,0,0,0,0,0,0,0,0,0,0,0,0,0\\n'"
      ]
     },
     "execution_count": 7,
     "metadata": {},
     "output_type": "execute_result"
    }
   ],
   "source": [
    "# 첫번째 데이터를 출력해보면 1 + 784 개이다.\n",
    "# 첫번째 열은 정답라벨(0~9), 두번째부터는 각 점의 색상이다.\n",
    "# 색상값에 대해 부가 설명을 하면 통상 255에 가까울수록 밝은색이나 여기서는 반대이다.\n",
    "# 0에 가까울수록 밝은색 즉 힌색이다. 그래서 그림에 힌색이 많아 0이 많은 것을 확인 할 수 있다.\n",
    "trainingDataList[0]"
   ]
  },
  {
   "cell_type": "code",
   "execution_count": 31,
   "metadata": {},
   "outputs": [
    {
     "name": "stdout",
     "output_type": "stream",
     "text": [
      "8\n"
     ]
    },
    {
     "data": {
      "text/plain": [
       "<matplotlib.image.AxesImage at 0x1b61df0f208>"
      ]
     },
     "execution_count": 31,
     "metadata": {},
     "output_type": "execute_result"
    },
    {
     "data": {
      "image/png": "[encoded data removed]",
      "text/plain": [
       "<Figure size 432x288 with 1 Axes>"
      ]
     },
     "metadata": {
      "needs_background": "light"
     },
     "output_type": "display_data"
    }
   ],
   "source": [
    "all_values = trainingDataList[503].split(',')\n",
    "target_label = all_values[0]\n",
    "print(target_label)\n",
    "image_array = numpy.asfarray(all_values[1:]).reshape((28,28))\n",
    "plt.imshow(image_array, cmap = 'Greys', interpolation='None')"
   ]
  },
  {
   "cell_type": "code",
   "execution_count": 24,
   "metadata": {},
   "outputs": [],
   "source": [
    "testDataFileHandler = open(\"mnist_test.csv\",\"r\")\n",
    "# 테스트용데이터를 읽어서 리스트형태로 저장\n",
    "testDataList = testDataFileHandler.readlines()\n",
    "# 테스트용데이터 파일 핸들러를 닫는다.\n",
    "testDataFileHandler.close()"
   ]
  },
  {
   "cell_type": "code",
   "execution_count": 25,
   "metadata": {},
   "outputs": [
    {
     "name": "stdout",
     "output_type": "stream",
     "text": [
      "performance =  94.86\n",
      "performance =  96.12\n",
      "performance =  96.45\n",
      "performance =  96.31\n",
      "performance =  96.1\n",
      "performance =  96.09\n",
      "performance =  95.78999999999999\n",
      "performance =  95.67999999999999\n",
      "performance =  95.3\n"
     ]
    }
   ],
   "source": [
    "inputNodesCnt  = 784  # 입력계층 노드 수\n",
    "hiddenNodesCnt = 100  # 은닉계층 노드 수\n",
    "outputNodesCnt = 10   # 출력계층 노드 수\n",
    "\n",
    "learningRate = 0.1    # 학습률\n",
    "\n",
    "net = MyNeuralNetwork(inputNodesCnt, hiddenNodesCnt, outputNodesCnt, learningRate)\n",
    "\n",
    "# 현재 스텝을 기록한다.\n",
    "step = [];\n",
    "# 현재 스텝의 정확도를 기록한다.\n",
    "stepPerf = [];\n",
    "\n",
    "for epochs in range(1, 10, 1):\n",
    "    for e in range(epochs):\n",
    "        for record in trainingDataList:\n",
    "            # 한줄의 데이터를 읽어 쉼표를 구분자로 하여 여러 셀에 기록한다.\n",
    "            cells = record.split(',')\n",
    "            \n",
    "            # 색상값이 0~255 사이 숫자이다.\n",
    "            # 잘 학습할 수 있도록 0은 피하고 큰수를 피하기 위해 0.01 ~ 1.00 사이로 조정한다.\n",
    "            inputs = (numpy.asfarray(cells[1:])/255.0*0.99) + 0.01\n",
    "            \n",
    "            # 정답인 1개만 아주 크고 나머진 아주 작은 one-hot encoding으로 구성되어 있다.\n",
    "            targets = numpy.zeros(outputNodesCnt) + 0.01\n",
    "            targets[int(cells[0])] = 0.99\n",
    "            \n",
    "            # 학습시킨다.\n",
    "            net.train(inputs, targets)\n",
    "            \n",
    "    resultCard = []\n",
    "\n",
    "    for record in testDataList:\n",
    "        # 한줄의 데이터를 읽어 쉼표를 구분자로 하여 여러 셀에 기록한다.\n",
    "        cells = record.split(',')\n",
    "        # 첫번째 항목은 라벨링된 정답지이다.\n",
    "        target = int(cells[0])\n",
    "        \n",
    "        # 색상값이 0~255 사이 숫자이다.\n",
    "        # 잘 학습할 수 있도록 0은 피하고 큰수를 피하기 위해 0.01 ~ 1.00 사이로 조정한다.\n",
    "        inputs = (numpy.asfarray(cells[1:])/255.0 * 0.99) + 0.01\n",
    "        \n",
    "        # 테스트 쿼리를 실행한다.\n",
    "        outputs = net.test(inputs)\n",
    "        # 배열중 최대값을 가진 인덱스를 반환한느 argmax를 통해 찾은 최대값과 정답지를 비교한다.\n",
    "        if(numpy.argmax(outputs) == target):\n",
    "            # 정답이라면 1 표시\n",
    "            resultCard.append(1)\n",
    "        else:\n",
    "            # 오답이라면 0 표시\n",
    "            resultCard.append(0)\n",
    "            \n",
    "    # resultCard 리스트를 배열형태로 변환한 후 평균을 구한다.\n",
    "    perf = numpy.asarray(resultCard).mean() * 100.0\n",
    "    print(\"performance = \", perf)\n",
    "    \n",
    "    # 현재 에폭을 step에 저장\n",
    "    step.append(epochs);\n",
    "    # 현재 에폭의 결과를 stepPerf에 저장\n",
    "    stepPerf.append(perf);"
   ]
  },
  {
   "cell_type": "code",
   "execution_count": 26,
   "metadata": {},
   "outputs": [
    {
     "name": "stdout",
     "output_type": "stream",
     "text": [
      "[1, 2, 3, 4, 5, 6, 7, 8, 9]\n",
      "[94.86, 96.12, 96.45, 96.31, 96.1, 96.09, 95.78999999999999, 95.67999999999999, 95.3]\n"
     ]
    },
    {
     "data": {
      "image/png": "[encoded data removed]",
      "text/plain": [
       "<Figure size 432x288 with 1 Axes>"
      ]
     },
     "metadata": {
      "needs_background": "light"
     },
     "output_type": "display_data"
    }
   ],
   "source": [
    "print(step)\n",
    "print(stepPerf)\n",
    "plt.plot(step, stepPerf)\n",
    "plt.show()"
   ]
  },
  {
   "cell_type": "code",
   "execution_count": null,
   "metadata": {},
   "outputs": [],
   "source": []
  }
 ],
 "metadata": {
  "kernelspec": {
   "display_name": "Python 3",
   "language": "python",
   "name": "python3"
  },
  "language_info": {
   "codemirror_mode": {
    "name": "ipython",
    "version": 3
   },
   "file_extension": ".py",
   "mimetype": "text/x-python",
   "name": "python",
   "nbconvert_exporter": "python",
   "pygments_lexer": "ipython3",
   "version": "3.7.1"
  }
 },
 "nbformat": 4,
 "nbformat_minor": 2
}
